{
 "cells": [
  {
   "cell_type": "code",
   "execution_count": 1,
   "metadata": {},
   "outputs": [],
   "source": [
    "from generate_alkanes import generate_branched_alkane\n",
    "from torsion_utils import get_torsion_tuples\n",
    "from energy import get_conformer_energy\n",
    "\n",
    "import numpy as np\n",
    "import rdkit.Chem as Chem\n",
    "import py3Dmol"
   ]
  },
  {
   "cell_type": "code",
   "execution_count": 2,
   "metadata": {},
   "outputs": [
    {
     "data": {
      "text/plain": [
       "[(1, 20.185011342132288)]"
      ]
     },
     "execution_count": 2,
     "metadata": {},
     "output_type": "execute_result"
    }
   ],
   "source": [
    "mol = generate_branched_alkane(14)\n",
    "Chem.AllChem.EmbedMultipleConfs(mol, numConfs=1)\n",
    "Chem.rdForceFieldHelpers.MMFFOptimizeMoleculeConfs(mol, nonBondedThresh=10., )"
   ]
  },
  {
   "cell_type": "code",
   "execution_count": 3,
   "metadata": {},
   "outputs": [],
   "source": [
    "torsion_angles, _ = get_torsion_tuples(mol)"
   ]
  },
  {
   "cell_type": "code",
   "execution_count": 4,
   "metadata": {},
   "outputs": [],
   "source": [
    "conf = mol.GetConformers()[0]"
   ]
  },
  {
   "cell_type": "code",
   "execution_count": 5,
   "metadata": {},
   "outputs": [],
   "source": [
    "sample_degs = [30 for _ in range(len(torsion_angles))]"
   ]
  },
  {
   "cell_type": "code",
   "execution_count": 6,
   "metadata": {},
   "outputs": [],
   "source": [
    "for idx, tors in enumerate(torsion_angles):\n",
    "    Chem.rdMolTransforms.SetDihedralDeg(conf, *tors, float(sample_degs[idx]))"
   ]
  },
  {
   "cell_type": "code",
   "execution_count": 7,
   "metadata": {},
   "outputs": [],
   "source": [
    "def drawConformer(mol, confIds=[-1], size=(300, 300), style=\"stick\"):\n",
    "    \"\"\"Displays interactive 3-dimensional representation of specified conformer.\n",
    "\n",
    "    Parameters\n",
    "    ----------\n",
    "    mol : RDKit Mol object\n",
    "        The molecule containing the conformer to be displayed.\n",
    "    confId : int\n",
    "        The ID of the conformer to be displayed.\n",
    "    size : Tuple[int, int]\n",
    "        The size of the display (width, height).\n",
    "    style: str\n",
    "        The drawing style for displaying the molecule. Can be sphere, stick, line, cross, cartoon, and surface.\n",
    "    \"\"\"\n",
    "    view = py3Dmol.view(width=size[0], height=size[1])\n",
    "    for confId in confIds:\n",
    "        block = Chem.MolToMolBlock(mol, confId=confId)\n",
    "        view.addModel(block, 'mol')\n",
    "    view.setStyle({style : {}})\n",
    "    view.zoomTo()\n",
    "    return view"
   ]
  },
  {
   "cell_type": "code",
   "execution_count": 8,
   "metadata": {},
   "outputs": [
    {
     "data": {
      "application/3dmoljs_load.v0": "<div id=\"3dmolviewer_1658267723270056\"  style=\"position: relative; width: 300px; height: 300px\">\n        <p id=\"3dmolwarning_1658267723270056\" style=\"background-color:#ffcccc;color:black\">You appear to be running in JupyterLab (or JavaScript failed to load for some other reason).  You need to install the 3dmol extension: <br>\n        <tt>jupyter labextension install jupyterlab_3dmol</tt></p>\n        </div>\n<script>\n\nvar loadScriptAsync = function(uri){\n  return new Promise((resolve, reject) => {\n    var tag = document.createElement('script');\n    tag.src = uri;\n    tag.async = true;\n    tag.onload = () => {\n      resolve();\n    };\n  var firstScriptTag = document.getElementsByTagName('script')[0];\n  firstScriptTag.parentNode.insertBefore(tag, firstScriptTag);\n});\n};\n\nif(typeof $3Dmolpromise === 'undefined') {\n$3Dmolpromise = null;\n  $3Dmolpromise = loadScriptAsync('https://3dmol.org/build/3Dmol.js');\n}\n\nvar viewer_1658267723270056 = null;\nvar warn = document.getElementById(\"3dmolwarning_1658267723270056\");\nif(warn) {\n    warn.parentNode.removeChild(warn);\n}\n$3Dmolpromise.then(function() {\nviewer_1658267723270056 = $3Dmol.createViewer($(\"#3dmolviewer_1658267723270056\"),{backgroundColor:\"white\"});\nviewer_1658267723270056.zoomTo();\n\tviewer_1658267723270056.addModel(\"\\n     RDKit          3D\\n\\n 44 43  0  0  0  0  0  0  0  0999 V2000\\n    3.6342   -4.3536    4.1023 C   0  0  0  0  0  0  0  0  0  0  0  0\\n    3.3323   -4.6217    2.6040 C   0  0  0  0  0  0  0  0  0  0  0  0\\n    3.7966   -3.4448    1.6809 C   0  0  0  0  0  0  0  0  0  0  0  0\\n    2.6348   -2.4617    1.3575 C   0  0  0  0  0  0  0  0  0  0  0  0\\n    4.9846   -2.5997    2.2158 C   0  0  0  0  0  0  0  0  0  0  0  0\\n    2.7731   -5.1350    5.1211 C   0  0  0  0  0  0  0  0  0  0  0  0\\n    4.5974   -1.3169    2.9547 C   0  0  0  0  0  0  0  0  0  0  0  0\\n    2.3256   -6.4930    4.5754 C   0  0  0  0  0  0  0  0  0  0  0  0\\n    3.2448   -1.4178    3.6675 C   0  0  0  0  0  0  0  0  0  0  0  0\\n    2.9068   -2.8271    4.1290 C   0  0  0  0  0  0  0  0  0  0  0  0\\n    3.0938   -1.0626    0.9334 C   0  0  0  0  0  0  0  0  0  0  0  0\\n    1.5753   -4.3402    5.6357 C   0  0  0  0  0  0  0  0  0  0  0  0\\n    1.8556   -4.9888    2.4003 C   0  0  0  0  0  0  0  0  0  0  0  0\\n    4.4426   -1.1131    0.2298 C   0  0  0  0  0  0  0  0  0  0  0  0\\n    4.6802   -4.5983    4.3231 H   0  0  0  0  0  0  0  0  0  0  0  0\\n    3.5223   -3.2838    4.3187 H   0  0  0  0  0  0  0  0  0  0  0  0\\n    3.9046   -5.5056    2.3151 H   0  0  0  0  0  0  0  0  0  0  0  0\\n    4.1087   -3.8748    0.7189 H   0  0  0  0  0  0  0  0  0  0  0  0\\n    2.0122   -2.3505    2.2553 H   0  0  0  0  0  0  0  0  0  0  0  0\\n    1.9828   -2.8848    0.5843 H   0  0  0  0  0  0  0  0  0  0  0  0\\n    5.5582   -3.2227    2.9154 H   0  0  0  0  0  0  0  0  0  0  0  0\\n    5.6696   -2.3662    1.3928 H   0  0  0  0  0  0  0  0  0  0  0  0\\n    3.4210   -5.3369    5.9850 H   0  0  0  0  0  0  0  0  0  0  0  0\\n    4.5408   -0.4898    2.2374 H   0  0  0  0  0  0  0  0  0  0  0  0\\n    5.3601   -1.0582    3.6946 H   0  0  0  0  0  0  0  0  0  0  0  0\\n    1.6117   -6.3923    3.7524 H   0  0  0  0  0  0  0  0  0  0  0  0\\n    1.8404   -7.0804    5.3626 H   0  0  0  0  0  0  0  0  0  0  0  0\\n    3.1836   -7.0689    4.2131 H   0  0  0  0  0  0  0  0  0  0  0  0\\n    2.4480   -1.0472    3.0123 H   0  0  0  0  0  0  0  0  0  0  0  0\\n    3.2651   -0.7593    4.5442 H   0  0  0  0  0  0  0  0  0  0  0  0\\n    1.9805   -2.8190    4.7124 H   0  0  0  0  0  0  0  0  0  0  0  0\\n    2.7576   -3.5018    3.2809 H   0  0  0  0  0  0  0  0  0  0  0  0\\n    3.7018   -3.2351    4.7611 H   0  0  0  0  0  0  0  0  0  0  0  0\\n    2.3547   -0.6151    0.2593 H   0  0  0  0  0  0  0  0  0  0  0  0\\n    3.1879   -0.4042    1.8021 H   0  0  0  0  0  0  0  0  0  0  0  0\\n    1.8920   -3.3680    6.0270 H   0  0  0  0  0  0  0  0  0  0  0  0\\n    1.0797   -4.8793    6.4505 H   0  0  0  0  0  0  0  0  0  0  0  0\\n    0.8297   -4.1723    4.8524 H   0  0  0  0  0  0  0  0  0  0  0  0\\n    1.5932   -5.8879    2.9655 H   0  0  0  0  0  0  0  0  0  0  0  0\\n    1.6389   -5.1967    1.3483 H   0  0  0  0  0  0  0  0  0  0  0  0\\n    1.1859   -4.1906    2.7346 H   0  0  0  0  0  0  0  0  0  0  0  0\\n    4.3903   -1.7236   -0.6774 H   0  0  0  0  0  0  0  0  0  0  0  0\\n    5.2108   -1.5354    0.8854 H   0  0  0  0  0  0  0  0  0  0  0  0\\n    4.7574   -0.1051   -0.0580 H   0  0  0  0  0  0  0  0  0  0  0  0\\n  1  2  1  0\\n  2  3  1  0\\n  3  4  1  0\\n  5  3  1  0\\n  6  1  1  0\\n  7  5  1  0\\n  8  6  1  0\\n  9  7  1  0\\n 10  9  1  0\\n 11  4  1  0\\n 12  6  1  0\\n 13  2  1  0\\n 14 11  1  0\\n  1 15  1  0\\n  1 16  1  0\\n  2 17  1  0\\n  3 18  1  0\\n  4 19  1  0\\n  4 20  1  0\\n  5 21  1  0\\n  5 22  1  0\\n  6 23  1  0\\n  7 24  1  0\\n  7 25  1  0\\n  8 26  1  0\\n  8 27  1  0\\n  8 28  1  0\\n  9 29  1  0\\n  9 30  1  0\\n 10 31  1  0\\n 10 32  1  0\\n 10 33  1  0\\n 11 34  1  0\\n 11 35  1  0\\n 12 36  1  0\\n 12 37  1  0\\n 12 38  1  0\\n 13 39  1  0\\n 13 40  1  0\\n 13 41  1  0\\n 14 42  1  0\\n 14 43  1  0\\n 14 44  1  0\\nM  END\\n\",\"mol\");\n\tviewer_1658267723270056.setStyle({\"stick\": {}});\n\tviewer_1658267723270056.zoomTo();\nviewer_1658267723270056.render();\n});\n</script>",
      "text/html": [
       "<div id=\"3dmolviewer_1658267723270056\"  style=\"position: relative; width: 300px; height: 300px\">\n",
       "        <p id=\"3dmolwarning_1658267723270056\" style=\"background-color:#ffcccc;color:black\">You appear to be running in JupyterLab (or JavaScript failed to load for some other reason).  You need to install the 3dmol extension: <br>\n",
       "        <tt>jupyter labextension install jupyterlab_3dmol</tt></p>\n",
       "        </div>\n",
       "<script>\n",
       "\n",
       "var loadScriptAsync = function(uri){\n",
       "  return new Promise((resolve, reject) => {\n",
       "    var tag = document.createElement('script');\n",
       "    tag.src = uri;\n",
       "    tag.async = true;\n",
       "    tag.onload = () => {\n",
       "      resolve();\n",
       "    };\n",
       "  var firstScriptTag = document.getElementsByTagName('script')[0];\n",
       "  firstScriptTag.parentNode.insertBefore(tag, firstScriptTag);\n",
       "});\n",
       "};\n",
       "\n",
       "if(typeof $3Dmolpromise === 'undefined') {\n",
       "$3Dmolpromise = null;\n",
       "  $3Dmolpromise = loadScriptAsync('https://3dmol.org/build/3Dmol.js');\n",
       "}\n",
       "\n",
       "var viewer_1658267723270056 = null;\n",
       "var warn = document.getElementById(\"3dmolwarning_1658267723270056\");\n",
       "if(warn) {\n",
       "    warn.parentNode.removeChild(warn);\n",
       "}\n",
       "$3Dmolpromise.then(function() {\n",
       "viewer_1658267723270056 = $3Dmol.createViewer($(\"#3dmolviewer_1658267723270056\"),{backgroundColor:\"white\"});\n",
       "viewer_1658267723270056.zoomTo();\n",
       "\tviewer_1658267723270056.addModel(\"\\n     RDKit          3D\\n\\n 44 43  0  0  0  0  0  0  0  0999 V2000\\n    3.6342   -4.3536    4.1023 C   0  0  0  0  0  0  0  0  0  0  0  0\\n    3.3323   -4.6217    2.6040 C   0  0  0  0  0  0  0  0  0  0  0  0\\n    3.7966   -3.4448    1.6809 C   0  0  0  0  0  0  0  0  0  0  0  0\\n    2.6348   -2.4617    1.3575 C   0  0  0  0  0  0  0  0  0  0  0  0\\n    4.9846   -2.5997    2.2158 C   0  0  0  0  0  0  0  0  0  0  0  0\\n    2.7731   -5.1350    5.1211 C   0  0  0  0  0  0  0  0  0  0  0  0\\n    4.5974   -1.3169    2.9547 C   0  0  0  0  0  0  0  0  0  0  0  0\\n    2.3256   -6.4930    4.5754 C   0  0  0  0  0  0  0  0  0  0  0  0\\n    3.2448   -1.4178    3.6675 C   0  0  0  0  0  0  0  0  0  0  0  0\\n    2.9068   -2.8271    4.1290 C   0  0  0  0  0  0  0  0  0  0  0  0\\n    3.0938   -1.0626    0.9334 C   0  0  0  0  0  0  0  0  0  0  0  0\\n    1.5753   -4.3402    5.6357 C   0  0  0  0  0  0  0  0  0  0  0  0\\n    1.8556   -4.9888    2.4003 C   0  0  0  0  0  0  0  0  0  0  0  0\\n    4.4426   -1.1131    0.2298 C   0  0  0  0  0  0  0  0  0  0  0  0\\n    4.6802   -4.5983    4.3231 H   0  0  0  0  0  0  0  0  0  0  0  0\\n    3.5223   -3.2838    4.3187 H   0  0  0  0  0  0  0  0  0  0  0  0\\n    3.9046   -5.5056    2.3151 H   0  0  0  0  0  0  0  0  0  0  0  0\\n    4.1087   -3.8748    0.7189 H   0  0  0  0  0  0  0  0  0  0  0  0\\n    2.0122   -2.3505    2.2553 H   0  0  0  0  0  0  0  0  0  0  0  0\\n    1.9828   -2.8848    0.5843 H   0  0  0  0  0  0  0  0  0  0  0  0\\n    5.5582   -3.2227    2.9154 H   0  0  0  0  0  0  0  0  0  0  0  0\\n    5.6696   -2.3662    1.3928 H   0  0  0  0  0  0  0  0  0  0  0  0\\n    3.4210   -5.3369    5.9850 H   0  0  0  0  0  0  0  0  0  0  0  0\\n    4.5408   -0.4898    2.2374 H   0  0  0  0  0  0  0  0  0  0  0  0\\n    5.3601   -1.0582    3.6946 H   0  0  0  0  0  0  0  0  0  0  0  0\\n    1.6117   -6.3923    3.7524 H   0  0  0  0  0  0  0  0  0  0  0  0\\n    1.8404   -7.0804    5.3626 H   0  0  0  0  0  0  0  0  0  0  0  0\\n    3.1836   -7.0689    4.2131 H   0  0  0  0  0  0  0  0  0  0  0  0\\n    2.4480   -1.0472    3.0123 H   0  0  0  0  0  0  0  0  0  0  0  0\\n    3.2651   -0.7593    4.5442 H   0  0  0  0  0  0  0  0  0  0  0  0\\n    1.9805   -2.8190    4.7124 H   0  0  0  0  0  0  0  0  0  0  0  0\\n    2.7576   -3.5018    3.2809 H   0  0  0  0  0  0  0  0  0  0  0  0\\n    3.7018   -3.2351    4.7611 H   0  0  0  0  0  0  0  0  0  0  0  0\\n    2.3547   -0.6151    0.2593 H   0  0  0  0  0  0  0  0  0  0  0  0\\n    3.1879   -0.4042    1.8021 H   0  0  0  0  0  0  0  0  0  0  0  0\\n    1.8920   -3.3680    6.0270 H   0  0  0  0  0  0  0  0  0  0  0  0\\n    1.0797   -4.8793    6.4505 H   0  0  0  0  0  0  0  0  0  0  0  0\\n    0.8297   -4.1723    4.8524 H   0  0  0  0  0  0  0  0  0  0  0  0\\n    1.5932   -5.8879    2.9655 H   0  0  0  0  0  0  0  0  0  0  0  0\\n    1.6389   -5.1967    1.3483 H   0  0  0  0  0  0  0  0  0  0  0  0\\n    1.1859   -4.1906    2.7346 H   0  0  0  0  0  0  0  0  0  0  0  0\\n    4.3903   -1.7236   -0.6774 H   0  0  0  0  0  0  0  0  0  0  0  0\\n    5.2108   -1.5354    0.8854 H   0  0  0  0  0  0  0  0  0  0  0  0\\n    4.7574   -0.1051   -0.0580 H   0  0  0  0  0  0  0  0  0  0  0  0\\n  1  2  1  0\\n  2  3  1  0\\n  3  4  1  0\\n  5  3  1  0\\n  6  1  1  0\\n  7  5  1  0\\n  8  6  1  0\\n  9  7  1  0\\n 10  9  1  0\\n 11  4  1  0\\n 12  6  1  0\\n 13  2  1  0\\n 14 11  1  0\\n  1 15  1  0\\n  1 16  1  0\\n  2 17  1  0\\n  3 18  1  0\\n  4 19  1  0\\n  4 20  1  0\\n  5 21  1  0\\n  5 22  1  0\\n  6 23  1  0\\n  7 24  1  0\\n  7 25  1  0\\n  8 26  1  0\\n  8 27  1  0\\n  8 28  1  0\\n  9 29  1  0\\n  9 30  1  0\\n 10 31  1  0\\n 10 32  1  0\\n 10 33  1  0\\n 11 34  1  0\\n 11 35  1  0\\n 12 36  1  0\\n 12 37  1  0\\n 12 38  1  0\\n 13 39  1  0\\n 13 40  1  0\\n 13 41  1  0\\n 14 42  1  0\\n 14 43  1  0\\n 14 44  1  0\\nM  END\\n\",\"mol\");\n",
       "\tviewer_1658267723270056.setStyle({\"stick\": {}});\n",
       "\tviewer_1658267723270056.zoomTo();\n",
       "viewer_1658267723270056.render();\n",
       "});\n",
       "</script>"
      ]
     },
     "metadata": {},
     "output_type": "display_data"
    },
    {
     "data": {
      "text/plain": [
       "<py3Dmol.view at 0x7f8138dde910>"
      ]
     },
     "execution_count": 8,
     "metadata": {},
     "output_type": "execute_result"
    }
   ],
   "source": [
    "drawConformer(mol, confIds=list(range(1)))"
   ]
  },
  {
   "cell_type": "code",
   "execution_count": 10,
   "metadata": {},
   "outputs": [],
   "source": [
    "loss = get_conformer_energy(mol)"
   ]
  },
  {
   "cell_type": "code",
   "execution_count": 12,
   "metadata": {},
   "outputs": [
    {
     "ename": "AttributeError",
     "evalue": "'float' object has no attribute 'backward'",
     "output_type": "error",
     "traceback": [
      "\u001b[0;31m---------------------------------------------------------------------------\u001b[0m",
      "\u001b[0;31mAttributeError\u001b[0m                            Traceback (most recent call last)",
      "\u001b[1;32m/home/yppatel/idp_flows/testing.ipynb Cell 10'\u001b[0m in \u001b[0;36m<cell line: 2>\u001b[0;34m()\u001b[0m\n\u001b[1;32m      <a href='vscode-notebook-cell://ssh-remote%2Bdeeplearning-01.stat.lsa.umich.edu/home/yppatel/idp_flows/testing.ipynb#ch0000009vscode-remote?line=0'>1</a>\u001b[0m \u001b[39m# optimizer.zero_grad()\u001b[39;00m\n\u001b[0;32m----> <a href='vscode-notebook-cell://ssh-remote%2Bdeeplearning-01.stat.lsa.umich.edu/home/yppatel/idp_flows/testing.ipynb#ch0000009vscode-remote?line=1'>2</a>\u001b[0m loss\u001b[39m.\u001b[39;49mbackward()\n",
      "\u001b[0;31mAttributeError\u001b[0m: 'float' object has no attribute 'backward'"
     ]
    }
   ],
   "source": [
    "# optimizer.zero_grad()\n",
    "loss.backward()\n",
    "# nn.utils.clip_grad_norm_(self.network.parameters(), config.gradient_clip)\n",
    "# self.optimizer.step()"
   ]
  },
  {
   "cell_type": "code",
   "execution_count": 14,
   "metadata": {},
   "outputs": [],
   "source": [
    "from RTGN import RTGNGat"
   ]
  },
  {
   "cell_type": "code",
   "execution_count": 17,
   "metadata": {},
   "outputs": [],
   "source": [
    "model = RTGNGat(6, 128, node_dim=5)"
   ]
  },
  {
   "cell_type": "code",
   "execution_count": 18,
   "metadata": {},
   "outputs": [
    {
     "data": {
      "text/plain": [
       "RTGNGat(\n",
       "  (gat): GAT(\n",
       "    (fc): Linear(in_features=5, out_features=128, bias=True)\n",
       "    (conv_layers): ModuleList(\n",
       "      (0): GATConv(128, 128, heads=2)\n",
       "      (1): GATConv(256, 128, heads=2)\n",
       "      (2): GATConv(256, 128, heads=2)\n",
       "      (3): GATConv(256, 128, heads=2)\n",
       "      (4): GATConv(256, 128, heads=2)\n",
       "      (5): GATConv(256, 128, heads=1)\n",
       "    )\n",
       "  )\n",
       "  (set2set): Set2Set(128, 256)\n",
       "  (mlp): Sequential(\n",
       "    (0): Linear(in_features=256, out_features=128, bias=True)\n",
       "    (1): ReLU()\n",
       "    (2): Linear(in_features=128, out_features=128, bias=True)\n",
       "    (3): ReLU()\n",
       "    (4): Linear(in_features=128, out_features=1, bias=True)\n",
       "  )\n",
       ")"
      ]
     },
     "execution_count": 18,
     "metadata": {},
     "output_type": "execute_result"
    }
   ],
   "source": [
    "model"
   ]
  },
  {
   "cell_type": "code",
   "execution_count": null,
   "metadata": {},
   "outputs": [],
   "source": []
  }
 ],
 "metadata": {
  "interpreter": {
   "hash": "72adff0a5138394e7ab3380b7860edf983a5dd8cab864dd8cf44bf01f55aa221"
  },
  "kernelspec": {
   "display_name": "Python 3.8.10 ('bliss-vKFXZHWe-py3.8')",
   "language": "python",
   "name": "python3"
  },
  "language_info": {
   "codemirror_mode": {
    "name": "ipython",
    "version": 3
   },
   "file_extension": ".py",
   "mimetype": "text/x-python",
   "name": "python",
   "nbconvert_exporter": "python",
   "pygments_lexer": "ipython3",
   "version": "3.8.10"
  },
  "orig_nbformat": 4
 },
 "nbformat": 4,
 "nbformat_minor": 2
}
