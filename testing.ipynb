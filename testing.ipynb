{
 "cells": [
  {
   "cell_type": "code",
   "execution_count": 28,
   "metadata": {},
   "outputs": [],
   "source": [
    "from generate_alkanes import generate_branched_alkane\n",
    "from torsion_utils import setup_torsion_angles\n",
    "\n",
    "import numpy as np\n",
    "import rdkit.Chem as Chem\n",
    "import py3Dmol"
   ]
  },
  {
   "cell_type": "code",
   "execution_count": 18,
   "metadata": {},
   "outputs": [
    {
     "data": {
      "text/plain": [
       "[(0, 24.266194136880195)]"
      ]
     },
     "execution_count": 18,
     "metadata": {},
     "output_type": "execute_result"
    }
   ],
   "source": [
    "mol = generate_branched_alkane(14)\n",
    "Chem.AllChem.EmbedMultipleConfs(mol, numConfs=1)\n",
    "Chem.rdForceFieldHelpers.MMFFOptimizeMoleculeConfs(mol, nonBondedThresh=10., )"
   ]
  },
  {
   "cell_type": "code",
   "execution_count": 19,
   "metadata": {},
   "outputs": [],
   "source": [
    "torsion_angles, _ = setup_torsion_angles(mol)"
   ]
  },
  {
   "cell_type": "code",
   "execution_count": 20,
   "metadata": {},
   "outputs": [],
   "source": [
    "conf = mol.GetConformers()[0]"
   ]
  },
  {
   "cell_type": "code",
   "execution_count": 23,
   "metadata": {},
   "outputs": [],
   "source": [
    "sample_degs = [30 for _ in range(len(torsion_angles))]"
   ]
  },
  {
   "cell_type": "code",
   "execution_count": 24,
   "metadata": {},
   "outputs": [],
   "source": [
    "for idx, tors in enumerate(torsion_angles):\n",
    "    Chem.rdMolTransforms.SetDihedralDeg(conf, *tors, float(sample_degs[idx]))"
   ]
  },
  {
   "cell_type": "code",
   "execution_count": 26,
   "metadata": {},
   "outputs": [],
   "source": [
    "def drawConformer(mol, confIds=[-1], size=(300, 300), style=\"stick\"):\n",
    "    \"\"\"Displays interactive 3-dimensional representation of specified conformer.\n",
    "\n",
    "    Parameters\n",
    "    ----------\n",
    "    mol : RDKit Mol object\n",
    "        The molecule containing the conformer to be displayed.\n",
    "    confId : int\n",
    "        The ID of the conformer to be displayed.\n",
    "    size : Tuple[int, int]\n",
    "        The size of the display (width, height).\n",
    "    style: str\n",
    "        The drawing style for displaying the molecule. Can be sphere, stick, line, cross, cartoon, and surface.\n",
    "    \"\"\"\n",
    "    view = py3Dmol.view(width=size[0], height=size[1])\n",
    "    for confId in confIds:\n",
    "        block = Chem.MolToMolBlock(mol, confId=confId)\n",
    "        view.addModel(block, 'mol')\n",
    "    view.setStyle({style : {}})\n",
    "    view.zoomTo()\n",
    "    return view"
   ]
  },
  {
   "cell_type": "code",
   "execution_count": 29,
   "metadata": {},
   "outputs": [
    {
     "data": {
      "application/3dmoljs_load.v0": "<div id=\"3dmolviewer_16582504891010637\"  style=\"position: relative; width: 300px; height: 300px\">\n        <p id=\"3dmolwarning_16582504891010637\" style=\"background-color:#ffcccc;color:black\">You appear to be running in JupyterLab (or JavaScript failed to load for some other reason).  You need to install the 3dmol extension: <br>\n        <tt>jupyter labextension install jupyterlab_3dmol</tt></p>\n        </div>\n<script>\n\nvar loadScriptAsync = function(uri){\n  return new Promise((resolve, reject) => {\n    var tag = document.createElement('script');\n    tag.src = uri;\n    tag.async = true;\n    tag.onload = () => {\n      resolve();\n    };\n  var firstScriptTag = document.getElementsByTagName('script')[0];\n  firstScriptTag.parentNode.insertBefore(tag, firstScriptTag);\n});\n};\n\nif(typeof $3Dmolpromise === 'undefined') {\n$3Dmolpromise = null;\n  $3Dmolpromise = loadScriptAsync('https://3dmol.org/build/3Dmol.js');\n}\n\nvar viewer_16582504891010637 = null;\nvar warn = document.getElementById(\"3dmolwarning_16582504891010637\");\nif(warn) {\n    warn.parentNode.removeChild(warn);\n}\n$3Dmolpromise.then(function() {\nviewer_16582504891010637 = $3Dmol.createViewer($(\"#3dmolviewer_16582504891010637\"),{backgroundColor:\"white\"});\nviewer_16582504891010637.zoomTo();\n\tviewer_16582504891010637.addModel(\"\\n     RDKit          3D\\n\\n 44 43  0  0  0  0  0  0  0  0999 V2000\\n   -3.0680   -4.5470    5.1677 C   0  0  0  0  0  0  0  0  0  0  0  0\\n   -3.2921   -3.0392    4.9806 C   0  0  0  0  0  0  0  0  0  0  0  0\\n   -2.0569   -2.2569    4.4575 C   0  0  0  0  0  0  0  0  0  0  0  0\\n   -1.2060   -3.1875    3.5764 C   0  0  0  0  0  0  0  0  0  0  0  0\\n   -1.6216   -4.9573    5.5246 C   0  0  0  0  0  0  0  0  0  0  0  0\\n   -2.3930   -0.8985    3.7464 C   0  0  0  0  0  0  0  0  0  0  0  0\\n   -2.4742   -1.0816    2.2253 C   0  0  0  0  0  0  0  0  0  0  0  0\\n   -1.3596    0.1950    4.1297 C   0  0  0  0  0  0  0  0  0  0  0  0\\n   -0.8293   -5.3605    4.2761 C   0  0  0  0  0  0  0  0  0  0  0  0\\n    0.0929   -0.2104    4.4691 C   0  0  0  0  0  0  0  0  0  0  0  0\\n   -0.8347   -3.9009    6.3220 C   0  0  0  0  0  0  0  0  0  0  0  0\\n   -1.7110   -3.0326    7.2130 C   0  0  0  0  0  0  0  0  0  0  0  0\\n    0.5643   -1.4647    3.7374 C   0  0  0  0  0  0  0  0  0  0  0  0\\n    0.3717   -0.2972    5.9700 C   0  0  0  0  0  0  0  0  0  0  0  0\\n   -3.7399   -4.9242    5.9462 H   0  0  0  0  0  0  0  0  0  0  0  0\\n   -3.3501   -5.0743    4.2486 H   0  0  0  0  0  0  0  0  0  0  0  0\\n   -3.5922   -2.5933    5.9365 H   0  0  0  0  0  0  0  0  0  0  0  0\\n   -4.1393   -2.8686    4.3085 H   0  0  0  0  0  0  0  0  0  0  0  0\\n   -1.4476   -2.0229    5.3422 H   0  0  0  0  0  0  0  0  0  0  0  0\\n   -1.6311   -3.2917    2.5731 H   0  0  0  0  0  0  0  0  0  0  0  0\\n   -0.1831   -2.8113    3.4763 H   0  0  0  0  0  0  0  0  0  0  0  0\\n   -1.1255   -4.1869    4.0178 H   0  0  0  0  0  0  0  0  0  0  0  0\\n   -1.6976   -5.8561    6.1523 H   0  0  0  0  0  0  0  0  0  0  0  0\\n   -3.3855   -0.5793    4.0861 H   0  0  0  0  0  0  0  0  0  0  0  0\\n   -1.4979   -1.3420    1.8042 H   0  0  0  0  0  0  0  0  0  0  0  0\\n   -2.8363   -0.1766    1.7344 H   0  0  0  0  0  0  0  0  0  0  0  0\\n   -3.1873   -1.8610    1.9437 H   0  0  0  0  0  0  0  0  0  0  0  0\\n   -1.2667    0.8776    3.2784 H   0  0  0  0  0  0  0  0  0  0  0  0\\n   -1.7646    0.8029    4.9494 H   0  0  0  0  0  0  0  0  0  0  0  0\\n   -1.3793   -6.1003    3.6851 H   0  0  0  0  0  0  0  0  0  0  0  0\\n    0.1290   -5.8095    4.5591 H   0  0  0  0  0  0  0  0  0  0  0  0\\n   -0.6131   -4.5003    3.6349 H   0  0  0  0  0  0  0  0  0  0  0  0\\n    0.7211    0.6163    4.1064 H   0  0  0  0  0  0  0  0  0  0  0  0\\n   -0.2537   -3.2609    5.6483 H   0  0  0  0  0  0  0  0  0  0  0  0\\n   -0.1054   -4.4126    6.9631 H   0  0  0  0  0  0  0  0  0  0  0  0\\n   -2.3815   -2.3995    6.6267 H   0  0  0  0  0  0  0  0  0  0  0  0\\n   -2.3159   -3.6469    7.8874 H   0  0  0  0  0  0  0  0  0  0  0  0\\n   -1.0865   -2.3738    7.8250 H   0  0  0  0  0  0  0  0  0  0  0  0\\n    0.0577   -2.3651    4.0963 H   0  0  0  0  0  0  0  0  0  0  0  0\\n    0.3856   -1.3760    2.6606 H   0  0  0  0  0  0  0  0  0  0  0  0\\n    1.6398   -1.6124    3.8840 H   0  0  0  0  0  0  0  0  0  0  0  0\\n    1.4502   -0.3741    6.1492 H   0  0  0  0  0  0  0  0  0  0  0  0\\n   -0.0924   -1.1657    6.4400 H   0  0  0  0  0  0  0  0  0  0  0  0\\n    0.0172    0.6011    6.4861 H   0  0  0  0  0  0  0  0  0  0  0  0\\n  1  2  1  0\\n  2  3  1  0\\n  3  4  1  0\\n  5  1  1  0\\n  6  3  1  0\\n  7  6  1  0\\n  8  6  1  0\\n  9  5  1  0\\n 10  8  1  0\\n 11  5  1  0\\n 12 11  1  0\\n 13 10  1  0\\n 14 10  1  0\\n  1 15  1  0\\n  1 16  1  0\\n  2 17  1  0\\n  2 18  1  0\\n  3 19  1  0\\n  4 20  1  0\\n  4 21  1  0\\n  4 22  1  0\\n  5 23  1  0\\n  6 24  1  0\\n  7 25  1  0\\n  7 26  1  0\\n  7 27  1  0\\n  8 28  1  0\\n  8 29  1  0\\n  9 30  1  0\\n  9 31  1  0\\n  9 32  1  0\\n 10 33  1  0\\n 11 34  1  0\\n 11 35  1  0\\n 12 36  1  0\\n 12 37  1  0\\n 12 38  1  0\\n 13 39  1  0\\n 13 40  1  0\\n 13 41  1  0\\n 14 42  1  0\\n 14 43  1  0\\n 14 44  1  0\\nM  END\\n\",\"mol\");\n\tviewer_16582504891010637.setStyle({\"stick\": {}});\n\tviewer_16582504891010637.zoomTo();\nviewer_16582504891010637.render();\n});\n</script>",
      "text/html": [
       "<div id=\"3dmolviewer_16582504891010637\"  style=\"position: relative; width: 300px; height: 300px\">\n",
       "        <p id=\"3dmolwarning_16582504891010637\" style=\"background-color:#ffcccc;color:black\">You appear to be running in JupyterLab (or JavaScript failed to load for some other reason).  You need to install the 3dmol extension: <br>\n",
       "        <tt>jupyter labextension install jupyterlab_3dmol</tt></p>\n",
       "        </div>\n",
       "<script>\n",
       "\n",
       "var loadScriptAsync = function(uri){\n",
       "  return new Promise((resolve, reject) => {\n",
       "    var tag = document.createElement('script');\n",
       "    tag.src = uri;\n",
       "    tag.async = true;\n",
       "    tag.onload = () => {\n",
       "      resolve();\n",
       "    };\n",
       "  var firstScriptTag = document.getElementsByTagName('script')[0];\n",
       "  firstScriptTag.parentNode.insertBefore(tag, firstScriptTag);\n",
       "});\n",
       "};\n",
       "\n",
       "if(typeof $3Dmolpromise === 'undefined') {\n",
       "$3Dmolpromise = null;\n",
       "  $3Dmolpromise = loadScriptAsync('https://3dmol.org/build/3Dmol.js');\n",
       "}\n",
       "\n",
       "var viewer_16582504891010637 = null;\n",
       "var warn = document.getElementById(\"3dmolwarning_16582504891010637\");\n",
       "if(warn) {\n",
       "    warn.parentNode.removeChild(warn);\n",
       "}\n",
       "$3Dmolpromise.then(function() {\n",
       "viewer_16582504891010637 = $3Dmol.createViewer($(\"#3dmolviewer_16582504891010637\"),{backgroundColor:\"white\"});\n",
       "viewer_16582504891010637.zoomTo();\n",
       "\tviewer_16582504891010637.addModel(\"\\n     RDKit          3D\\n\\n 44 43  0  0  0  0  0  0  0  0999 V2000\\n   -3.0680   -4.5470    5.1677 C   0  0  0  0  0  0  0  0  0  0  0  0\\n   -3.2921   -3.0392    4.9806 C   0  0  0  0  0  0  0  0  0  0  0  0\\n   -2.0569   -2.2569    4.4575 C   0  0  0  0  0  0  0  0  0  0  0  0\\n   -1.2060   -3.1875    3.5764 C   0  0  0  0  0  0  0  0  0  0  0  0\\n   -1.6216   -4.9573    5.5246 C   0  0  0  0  0  0  0  0  0  0  0  0\\n   -2.3930   -0.8985    3.7464 C   0  0  0  0  0  0  0  0  0  0  0  0\\n   -2.4742   -1.0816    2.2253 C   0  0  0  0  0  0  0  0  0  0  0  0\\n   -1.3596    0.1950    4.1297 C   0  0  0  0  0  0  0  0  0  0  0  0\\n   -0.8293   -5.3605    4.2761 C   0  0  0  0  0  0  0  0  0  0  0  0\\n    0.0929   -0.2104    4.4691 C   0  0  0  0  0  0  0  0  0  0  0  0\\n   -0.8347   -3.9009    6.3220 C   0  0  0  0  0  0  0  0  0  0  0  0\\n   -1.7110   -3.0326    7.2130 C   0  0  0  0  0  0  0  0  0  0  0  0\\n    0.5643   -1.4647    3.7374 C   0  0  0  0  0  0  0  0  0  0  0  0\\n    0.3717   -0.2972    5.9700 C   0  0  0  0  0  0  0  0  0  0  0  0\\n   -3.7399   -4.9242    5.9462 H   0  0  0  0  0  0  0  0  0  0  0  0\\n   -3.3501   -5.0743    4.2486 H   0  0  0  0  0  0  0  0  0  0  0  0\\n   -3.5922   -2.5933    5.9365 H   0  0  0  0  0  0  0  0  0  0  0  0\\n   -4.1393   -2.8686    4.3085 H   0  0  0  0  0  0  0  0  0  0  0  0\\n   -1.4476   -2.0229    5.3422 H   0  0  0  0  0  0  0  0  0  0  0  0\\n   -1.6311   -3.2917    2.5731 H   0  0  0  0  0  0  0  0  0  0  0  0\\n   -0.1831   -2.8113    3.4763 H   0  0  0  0  0  0  0  0  0  0  0  0\\n   -1.1255   -4.1869    4.0178 H   0  0  0  0  0  0  0  0  0  0  0  0\\n   -1.6976   -5.8561    6.1523 H   0  0  0  0  0  0  0  0  0  0  0  0\\n   -3.3855   -0.5793    4.0861 H   0  0  0  0  0  0  0  0  0  0  0  0\\n   -1.4979   -1.3420    1.8042 H   0  0  0  0  0  0  0  0  0  0  0  0\\n   -2.8363   -0.1766    1.7344 H   0  0  0  0  0  0  0  0  0  0  0  0\\n   -3.1873   -1.8610    1.9437 H   0  0  0  0  0  0  0  0  0  0  0  0\\n   -1.2667    0.8776    3.2784 H   0  0  0  0  0  0  0  0  0  0  0  0\\n   -1.7646    0.8029    4.9494 H   0  0  0  0  0  0  0  0  0  0  0  0\\n   -1.3793   -6.1003    3.6851 H   0  0  0  0  0  0  0  0  0  0  0  0\\n    0.1290   -5.8095    4.5591 H   0  0  0  0  0  0  0  0  0  0  0  0\\n   -0.6131   -4.5003    3.6349 H   0  0  0  0  0  0  0  0  0  0  0  0\\n    0.7211    0.6163    4.1064 H   0  0  0  0  0  0  0  0  0  0  0  0\\n   -0.2537   -3.2609    5.6483 H   0  0  0  0  0  0  0  0  0  0  0  0\\n   -0.1054   -4.4126    6.9631 H   0  0  0  0  0  0  0  0  0  0  0  0\\n   -2.3815   -2.3995    6.6267 H   0  0  0  0  0  0  0  0  0  0  0  0\\n   -2.3159   -3.6469    7.8874 H   0  0  0  0  0  0  0  0  0  0  0  0\\n   -1.0865   -2.3738    7.8250 H   0  0  0  0  0  0  0  0  0  0  0  0\\n    0.0577   -2.3651    4.0963 H   0  0  0  0  0  0  0  0  0  0  0  0\\n    0.3856   -1.3760    2.6606 H   0  0  0  0  0  0  0  0  0  0  0  0\\n    1.6398   -1.6124    3.8840 H   0  0  0  0  0  0  0  0  0  0  0  0\\n    1.4502   -0.3741    6.1492 H   0  0  0  0  0  0  0  0  0  0  0  0\\n   -0.0924   -1.1657    6.4400 H   0  0  0  0  0  0  0  0  0  0  0  0\\n    0.0172    0.6011    6.4861 H   0  0  0  0  0  0  0  0  0  0  0  0\\n  1  2  1  0\\n  2  3  1  0\\n  3  4  1  0\\n  5  1  1  0\\n  6  3  1  0\\n  7  6  1  0\\n  8  6  1  0\\n  9  5  1  0\\n 10  8  1  0\\n 11  5  1  0\\n 12 11  1  0\\n 13 10  1  0\\n 14 10  1  0\\n  1 15  1  0\\n  1 16  1  0\\n  2 17  1  0\\n  2 18  1  0\\n  3 19  1  0\\n  4 20  1  0\\n  4 21  1  0\\n  4 22  1  0\\n  5 23  1  0\\n  6 24  1  0\\n  7 25  1  0\\n  7 26  1  0\\n  7 27  1  0\\n  8 28  1  0\\n  8 29  1  0\\n  9 30  1  0\\n  9 31  1  0\\n  9 32  1  0\\n 10 33  1  0\\n 11 34  1  0\\n 11 35  1  0\\n 12 36  1  0\\n 12 37  1  0\\n 12 38  1  0\\n 13 39  1  0\\n 13 40  1  0\\n 13 41  1  0\\n 14 42  1  0\\n 14 43  1  0\\n 14 44  1  0\\nM  END\\n\",\"mol\");\n",
       "\tviewer_16582504891010637.setStyle({\"stick\": {}});\n",
       "\tviewer_16582504891010637.zoomTo();\n",
       "viewer_16582504891010637.render();\n",
       "});\n",
       "</script>"
      ]
     },
     "metadata": {},
     "output_type": "display_data"
    },
    {
     "data": {
      "text/plain": [
       "<py3Dmol.view at 0x7f4000f88f70>"
      ]
     },
     "execution_count": 29,
     "metadata": {},
     "output_type": "execute_result"
    }
   ],
   "source": [
    "drawConformer(mol, confIds=list(range(1)))"
   ]
  },
  {
   "cell_type": "code",
   "execution_count": null,
   "metadata": {},
   "outputs": [],
   "source": []
  }
 ],
 "metadata": {
  "interpreter": {
   "hash": "72adff0a5138394e7ab3380b7860edf983a5dd8cab864dd8cf44bf01f55aa221"
  },
  "kernelspec": {
   "display_name": "Python 3.8.10 ('bliss-vKFXZHWe-py3.8')",
   "language": "python",
   "name": "python3"
  },
  "language_info": {
   "codemirror_mode": {
    "name": "ipython",
    "version": 3
   },
   "file_extension": ".py",
   "mimetype": "text/x-python",
   "name": "python",
   "nbconvert_exporter": "python",
   "pygments_lexer": "ipython3",
   "version": "3.8.10"
  },
  "orig_nbformat": 4
 },
 "nbformat": 4,
 "nbformat_minor": 2
}
