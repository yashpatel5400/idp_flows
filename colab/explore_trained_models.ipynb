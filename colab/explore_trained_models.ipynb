{
  "cells": [
    {
      "cell_type": "code",
      "execution_count": null,
      "metadata": {
        "id": "532jUiWVFvuK"
      },
      "outputs": [],
      "source": [
        "# Copyright 2022 DeepMind Technologies Limited\n",
        "#\n",
        "# Licensed under the Apache License, Version 2.0 (the \"License\");\n",
        "# you may not use this file except in compliance with the License.\n",
        "# You may obtain a copy of the License at\n",
        "#\n",
        "#     https://www.apache.org/licenses/LICENSE-2.0\n",
        "#\n",
        "# Unless required by applicable law or agreed to in writing, software\n",
        "# distributed under the License is distributed on an \"AS IS\" BASIS,\n",
        "# WITHOUT WARRANTIES OR CONDITIONS OF ANY KIND, either express or implied.\n",
        "# See the License for the specific language governing permissions and\n",
        "# limitations under the License."
      ]
    },
    {
      "cell_type": "markdown",
      "metadata": {
        "id": "9VODuCisi0li"
      },
      "source": [
        "## Imports"
      ]
    },
    {
      "cell_type": "code",
      "execution_count": null,
      "metadata": {
        "cellView": "code",
        "id": "b7Xb9iDbrQY9"
      },
      "outputs": [],
      "source": [
        "!git clone https://github.com/deepmind/flows_for_atomic_solids.git\n",
        "!pip install -r flows_for_atomic_solids/requirements.txt"
      ]
    },
    {
      "cell_type": "code",
      "execution_count": null,
      "metadata": {
        "id": "GVIz5CNa27sx"
      },
      "outputs": [],
      "source": [
        "import distrax\n",
        "import os\n",
        "import pickle\n",
        "import requests\n",
        "import shutil\n",
        "import subprocess\n",
        "\n",
        "import haiku as hk\n",
        "import jax\n",
        "import jax.numpy as jnp\n",
        "import numpy as np\n",
        "\n",
        "from matplotlib import pyplot as plt\n",
        "from mpl_toolkits.axes_grid1.inset_locator import inset_axes\n",
        "from matplotlib import rcParams\n",
        "\n",
        "from flows_for_atomic_solids.experiments import lennard_jones_config\n",
        "from flows_for_atomic_solids.experiments import monatomic_water_config\n",
        "from flows_for_atomic_solids.models import particle_models\n",
        "from flows_for_atomic_solids.utils import observable_utils as obs_utils\n",
        "\n",
        "rcParams.update({\n",
        "    'font.size': 16, 'xtick.labelsize': 16, 'ytick.labelsize': 16,\n",
        "    'legend.fontsize': 16, 'lines.linewidth': 3, 'axes.titlepad': 16,\n",
        "    'axes.labelpad': 16, 'axes.labelsize': 20,\n",
        "    'figure.figsize': [8.0, 6.0]})"
      ]
    },
    {
      "cell_type": "markdown",
      "metadata": {
        "id": "bOP3N4kXb_10"
      },
      "source": [
        "## Load system configuration and parameters"
      ]
    },
    {
      "cell_type": "code",
      "execution_count": null,
      "metadata": {
        "id": "n9ip6h8cnbQ1"
      },
      "outputs": [],
      "source": [
        "def get_model_params(system_name, local_path):\n",
        "  bucket_path = 'https://storage.googleapis.com/dm_flows_for_atomic_solids'\n",
        "  source_url = os.path.join(bucket_path, system_name, 'params.pkl')\n",
        "  dest_folder = os.path.join(local_path, 'flows_for_atomic_solids', system_name)\n",
        "  subprocess.check_call(['mkdir', '-p', dest_folder])\n",
        "  print(f'Downloading: {source_url}')\n",
        "  dest_path = os.path.join(dest_folder, 'params.pkl')\n",
        "  with requests.get(source_url, stream=True) as r, open(dest_path, 'wb') as w:\n",
        "    r.raise_for_status()\n",
        "    shutil.copyfileobj(r.raw, w)\n",
        "  with open(dest_path, 'rb') as f:\n",
        "    return pickle.load(f)\n",
        "\n",
        "LOCAL_PATH = '/tmp'\n",
        "\n",
        "available_systems = {\n",
        "    'mw_cubic_64': (monatomic_water_config, dict(num_particles=64, lattice='cubic')),\n",
        "    'mw_cubic_216': (monatomic_water_config, dict(num_particles=216, lattice='cubic')),\n",
        "    'mw_cubic_512': (monatomic_water_config, dict(num_particles=512, lattice='cubic')),\n",
        "    'mw_hex_64': (monatomic_water_config, dict(num_particles=64, lattice='hex')),\n",
        "    'mw_hex_216': (monatomic_water_config, dict(num_particles=216, lattice='hex')),\n",
        "    'mw_hex_512': (monatomic_water_config, dict(num_particles=512, lattice='hex')),\n",
        "    'lj_256': (lennard_jones_config, dict(num_particles=256)),\n",
        "    'lj_500': (lennard_jones_config, dict(num_particles=500)),\n",
        "}\n",
        "\n",
        "chosen_system = 'mw_cubic_512'\n",
        "\n",
        "config_module, config_params = available_systems[chosen_system]\n",
        "model_params = get_model_params(chosen_system, LOCAL_PATH)\n",
        "config = config_module.get_config(**config_params)"
      ]
    },
    {
      "cell_type": "markdown",
      "metadata": {
        "id": "A7CDRTOFS_k9"
      },
      "source": [
        "## Create the model"
      ]
    },
    {
      "cell_type": "code",
      "execution_count": null,
      "metadata": {
        "id": "xp6hOEXwLnc8"
      },
      "outputs": [],
      "source": [
        "state = config.state\n",
        "box_length = state['upper'] - state['lower']\n",
        "num_particles = state.num_particles\n",
        "\n",
        "@hk.transform\n",
        "def base_sample_and_logprob_fun(num_samples, config=config, state=state):\n",
        "  base_config = config.model.kwargs.base\n",
        "  if config.model.kwargs.translation_invariant:\n",
        "    base_num_particles = state['num_particles'] - 1\n",
        "  else:\n",
        "    base_num_particles = state['num_particles']\n",
        "  base_proposal = base_config['constructor'](\n",
        "      num_particles=base_num_particles,\n",
        "      lower=state['lower'],\n",
        "      upper=state['upper'],\n",
        "      **base_config['kwargs'])\n",
        "  if config.model.kwargs.translation_invariant:\n",
        "    base_proposal = particle_models.TranslationInvariant(base_proposal)\n",
        "  return base_proposal.sample_and_log_prob(seed=hk.next_rng_key(), sample_shape=num_samples)\n",
        "\n",
        "base_params = base_sample_and_logprob_fun.init(jax.random.PRNGKey(0), num_samples=1)\n",
        "base_sample_and_logprob = jax.jit(base_sample_and_logprob_fun.apply, static_argnames='num_samples')\n",
        "\n",
        "@hk.transform\n",
        "def flow_sample_and_logprob_fun(num_samples, config=config, state=state):\n",
        "  model = config.model['constructor'](\n",
        "      num_particles=state['num_particles'],\n",
        "      lower=state['lower'],\n",
        "      upper=state['upper'],\n",
        "      **config.model['kwargs'])\n",
        "  return model.sample_and_log_prob(seed=hk.next_rng_key(), sample_shape=num_samples)\n",
        "\n",
        "flow_sample_and_logprob = jax.jit(flow_sample_and_logprob_fun.apply, static_argnames='num_samples')\n",
        "\n",
        "potential_energy_fn = config.test_energy['constructor'](**config.test_energy['kwargs'])\n",
        "potential_energy = jax.jit(potential_energy_fn)"
      ]
    },
    {
      "cell_type": "markdown",
      "metadata": {
        "id": "GzyAQaR9LnFo"
      },
      "source": [
        "## Sample the model"
      ]
    },
    {
      "cell_type": "code",
      "execution_count": null,
      "metadata": {
        "id": "7uckhHP3hp7O"
      },
      "outputs": [],
      "source": [
        "def closest_power_of_2(x):\n",
        "  return 2**int(np.log2(x) + 0.5)\n",
        "\n",
        "def gather_samples(n, batch_fun):\n",
        "  data = None\n",
        "  digits = int(np.log10(n) + 1)\n",
        "  i = 0\n",
        "  while (data is None) or (len(jax.tree_flatten(data)[0][0]) < n):\n",
        "    new_data = batch_fun(i)\n",
        "    i += 1\n",
        "    if data is None:\n",
        "      data = new_data\n",
        "    else:\n",
        "      data = jax.tree_map(lambda a, b: jnp.concatenate((a, b)), data, new_data)\n",
        "    prefix = ('\\b' * (2 * digits + 3)) if i > 1 else ''\n",
        "    print(f'{prefix}{len(jax.tree_flatten(data)[0][0]):0{digits}d} / {n}', end='')\n",
        "  print()\n",
        "  return jax.tree_map(lambda x: x[:n], data)\n",
        "\n",
        "if jax.devices()[0].platform == 'cpu':\n",
        "  print('WARNING: no accelerator found. The model will take a long time to '\n",
        "        'compute energies and generate model samples, and may crash. \\nA Colab '\n",
        "        'kernel with a GPU or TPU accelerator is strongly recommended.')\n",
        "  print()\n",
        "\n",
        "batch_size = closest_power_of_2(32768/num_particles)\n",
        "base_batch_size = batch_size * 32\n",
        "energy_batch_size = closest_power_of_2(8192/num_particles)\n",
        "N = 8192\n",
        "print('Gathering base samples: ', end='')\n",
        "base_samples, base_logprob = jax.tree_map(np.array, gather_samples(N, lambda i: base_sample_and_logprob(base_params, jax.random.PRNGKey(-i-27), num_samples=base_batch_size)))\n",
        "print('Computing base energies: ', end='')\n",
        "base_energies = np.array(gather_samples(N, lambda i: potential_energy(base_samples[i*energy_batch_size:(i+1)*energy_batch_size])))\n",
        "print('Gathering model samples (initial jitting can take some time): ', end='')\n",
        "model_samples, model_logprob = jax.tree_map(np.array, gather_samples(N, lambda i: flow_sample_and_logprob(model_params, jax.random.PRNGKey(i+4200000), num_samples=batch_size)))\n",
        "print('Computing model energies: ', end='')\n",
        "model_energies = np.array(gather_samples(N, lambda i: potential_energy(model_samples[i*energy_batch_size:(i+1)*energy_batch_size])))"
      ]
    },
    {
      "cell_type": "markdown",
      "metadata": {
        "id": "Uq-6Hyt_oG1J"
      },
      "source": [
        "## Energies + Radial distribution function (Fig. 2)"
      ]
    },
    {
      "cell_type": "code",
      "execution_count": null,
      "metadata": {
        "id": "IW5uJGe1A9Fp"
      },
      "outputs": [],
      "source": [
        "num_bins = 200\n",
        "max_gr_samples = 512\n",
        "flow_color = 'r'\n",
        "base_color = 'b'\n",
        "beta = state.beta\n",
        "\n",
        "def equalize(x, y, n_points=100):\n",
        "  length = np.cumsum(np.concatenate([[0], np.sqrt(np.diff(x)**2+np.diff(y)**2)]))\n",
        "  l_values = np.linspace(length[0], length[-1], n_points)\n",
        "  new_x = np.interp(l_values, length, x)\n",
        "  new_y = np.interp(l_values, length, y)\n",
        "  return new_x, new_y\n",
        "\n",
        "base_gr = obs_utils.radial_distribution_function(coordinates=base_samples[:max_gr_samples], box_length=box_length)\n",
        "model_gr = obs_utils.radial_distribution_function(coordinates=model_samples[:max_gr_samples], box_length=box_length)\n",
        "\n",
        "fig, (ax1, ax2) = plt.subplots(ncols=2, figsize=(16.0, 5.0), dpi=180, gridspec_kw={'wspace': 0.45})\n",
        "\n",
        "ax = ax1\n",
        "n_samples = len(model_energies)\n",
        "_, _, patches = ax.hist(beta*base_energies/num_particles, bins=num_bins, density=True, histtype='stepfilled', color=base_color, alpha=0.5, linewidth=0, label='Base')\n",
        "_, _, patches = ax.hist(beta*model_energies/num_particles, bins=num_bins, density=True, histtype='stepfilled', color=flow_color, alpha=0.5, linewidth=0, label='Model')\n",
        "\n",
        "_ = ax.legend(loc='upper right', prop={'size': 18}, frameon=False)\n",
        "\n",
        "ax.set_ylabel(r'Density', labelpad=-10)\n",
        "ax.set_xlabel(r'$\\beta U/N$', labelpad=-10)\n",
        "\n",
        "xticks = ax.get_xticks()\n",
        "ax.set_xticks([xticks[1], xticks[-2]])\n",
        "ax.set_yticks([ax.get_yticks()[0], ax.get_yticks()[-1]])\n",
        "\n",
        "ax = ax2\n",
        "if chosen_system.startswith('mw'):  # monatomic water, scale r by sigma\n",
        "  scale = 2.3925\n",
        "else:  # Lennard-Jones, r is already scaled\n",
        "  scale = 1.0\n",
        "\n",
        "ax.plot(base_gr[:, 0] / scale, base_gr[:, 1], label='Base', color=base_color, linewidth=2, linestyle=':')\n",
        "ax.plot(model_gr[:, 0] / scale, model_gr[:, 1], color=flow_color, label='Model', linewidth=2, linestyle='--', dashes=[3, 3])\n",
        "ax.set_ylabel(r'$g(r)$')\n",
        "ax.set_xlabel(r'$r / \\sigma$', labelpad=0)\n",
        "_ = ax.legend(loc='upper right', prop={'size': 18}, frameon=False)"
      ]
    },
    {
      "cell_type": "markdown",
      "metadata": {
        "id": "bKlVqyIJC3V9"
      },
      "source": [
        "## Histogram of work values (Fig. 4)"
      ]
    },
    {
      "cell_type": "code",
      "execution_count": null,
      "metadata": {
        "id": "WdBuh4yi83HX"
      },
      "outputs": [],
      "source": [
        "def plot_model_vs_true_logprob(mlp, tlp_unnormalized, target_log_z,\n",
        "                               ax, percentile=0.01, color='r', label=None,\n",
        "                               fontsize=None, margin=0, n_plot_samples=10000):\n",
        "  if not ax.lines and not ax.collections:\n",
        "    prev_xlim = None\n",
        "    prev_ylim = None\n",
        "  else:\n",
        "    prev_xlim = ax.get_xlim()\n",
        "    prev_ylim = ax.get_ylim()\n",
        "  ax.set_xlabel(r'$\\ln\\ \\hat{p}(x)$', fontsize=fontsize, labelpad=2)\n",
        "  ax.set_ylabel(r'$\\ln\\ q(x)$', fontsize=fontsize, labelpad=2)\n",
        "\n",
        "  tlp_normalized = tlp_unnormalized - target_log_z\n",
        "\n",
        "  # Work out a suitable plot range according to the desired target percentile\n",
        "  # of data points.\n",
        "  pymax = np.nanpercentile(mlp, 100 - percentile)\n",
        "  pymin = np.nanpercentile(mlp, percentile)\n",
        "  target_pymax = np.nanpercentile(tlp_normalized, 100 - percentile)\n",
        "  target_pymin = np.nanpercentile(tlp_normalized, percentile)\n",
        "  pymin = np.minimum(pymin, target_pymin)\n",
        "  pymax = np.maximum(pymax, target_pymax)\n",
        "  alpha = min(1.0, 400 / min(n_plot_samples, len(tlp_normalized)))\n",
        "\n",
        "  ax.scatter(\n",
        "      tlp_normalized[:n_plot_samples],\n",
        "      mlp[:n_plot_samples],\n",
        "      c=color,\n",
        "      alpha=alpha,\n",
        "      linewidth=0,\n",
        "      s=10,\n",
        "      cmap=plt.get_cmap('magma'),\n",
        "      label=label)\n",
        "\n",
        "  if not (np.isinf(pymin) or np.isinf(pymax) or\n",
        "          np.isnan(pymin) or np.isnan(pymax)):\n",
        "    if prev_xlim is None:\n",
        "      xlims = np.array([pymin, pymax])\n",
        "      ylims = np.array([pymin, pymax])\n",
        "    else:\n",
        "      xlims = np.array([min(prev_xlim[0], pymin), max(prev_xlim[1], pymax)])\n",
        "      ylims = np.array([min(prev_ylim[0], pymin), max(prev_ylim[1], pymax)])\n",
        "    if margin:\n",
        "      xlims = xlims + np.diff(xlims)*[-1, 1] * margin\n",
        "      ylims = ylims + np.diff(ylims)*[-1, 1] * margin\n",
        "    ax.set_xlim(*xlims)\n",
        "    ax.set_ylim(*ylims)\n",
        "\n",
        "  ax.plot(ax.get_xlim(), ax.get_ylim(), ls='--', c='.3', lw=1)\n",
        "  ax.set_xticks([])\n",
        "  ax.set_yticks([])\n",
        "  return ax\n",
        "\n",
        "log_factorial = lambda n: np.sum(np.log(np.arange(n)+1))\n",
        "dimensionless_logvolume_mw = -3 * np.log(2.3925)\n",
        "\n",
        "num_bins = 200\n",
        "flow_color = 'r'\n",
        "base_color = 'b'\n",
        "beta = state.beta\n",
        "box_vol = np.prod(box_length)\n",
        "density = num_particles / box_vol\n",
        "\n",
        "mbar_values = {\n",
        "    'mw_cubic_64': -25.16306,\n",
        "    'mw_cubic_216': -25.08234,\n",
        "    'mw_cubic_512': -25.06156,\n",
        "    'mw_hex_64': -25.18687,\n",
        "    'mw_hex_216': -25.08975,\n",
        "    'mw_hex_512': -25.06480,\n",
        "    'lj_256': 3.10798,\n",
        "    'lj_500': 3.12262,\n",
        "    }\n",
        "\n",
        "fig, ax = plt.subplots(figsize=(8.0, 6.0), dpi=180)\n",
        "\n",
        "model_work = (beta*model_energies + model_logprob)/num_particles\n",
        "base_work = (beta*base_energies + base_logprob)/num_particles\n",
        "logz_from_mbar_value = mbar_values[chosen_system] - log_factorial(int(num_particles)) / num_particles\n",
        "if chosen_system.startswith('mw'):  # monatomic water, scale dimensions\n",
        "  model_work = model_work - dimensionless_logvolume_mw\n",
        "  base_work = base_work - dimensionless_logvolume_mw\n",
        "  target_log_z = -(logz_from_mbar_value + dimensionless_logvolume_mw) * num_particles\n",
        "else:  # Lennard-Jones\n",
        "  target_log_z = -logz_from_mbar_value * num_particles\n",
        "\n",
        "_, _, patches = ax.hist(base_work, bins=num_bins, density=True, histtype='stepfilled', color=base_color, alpha=0.5, linewidth=3, label='Base')\n",
        "ax.hist(base_work, bins=num_bins, density=True, histtype='step', linewidth=2, linestyle='-', color=patches[-1].get_facecolor())\n",
        "_, _, patches = ax.hist(model_work, bins=num_bins, density=True, histtype='stepfilled', color=flow_color, alpha=0.5, linewidth=3, label='Model')\n",
        "ax.hist(model_work, bins=num_bins, density=True, histtype='step', linewidth=2, linestyle='-', color=patches[-1].get_facecolor())\n",
        "ax.axvline(logz_from_mbar_value, color='g', linewidth=1, ls='--')\n",
        "\n",
        "ax.set_xticks([ax.get_xticks()[0], ax.get_xticks()[-1]])\n",
        "ax.set_yticks([ax.get_yticks()[0], ax.get_yticks()[-1]])\n",
        "ax.set_xlabel(r'$\\beta \\Phi / N$', labelpad=-10, fontsize=20)\n",
        "plt.ylabel(r'Density', labelpad=-10, fontsize=20)\n",
        "plt.xticks(fontsize=16)\n",
        "plt.yticks(fontsize=16)\n",
        "\n",
        "xlim = ax.get_xlim()\n",
        "ylim = ax.get_ylim()\n",
        "axins2 = inset_axes(ax, width='70%', height='80%', bbox_to_anchor=(logz_from_mbar_value, ylim[0]+.1*np.diff(ylim), .35*np.diff(xlim), .3*np.diff(ylim)), bbox_transform=ax.transData)\n",
        "_, _, patches = axins2.hist(model_work, bins=num_bins, density=True, histtype='stepfilled', color=flow_color, alpha=0.5, linewidth=3, label='Model')\n",
        "axins2.axvline(logz_from_mbar_value, color='g', linewidth=1, ls='--')\n",
        "axins2.set_xticks([axins2.get_xticks()[0], axins2.get_xticks()[-1]])\n",
        "axins2.tick_params(axis='x', labelsize=12)\n",
        "axins2.set_yticks([])\n",
        "ax.annotate('',\n",
        "            xy=(logz_from_mbar_value+0.01*np.diff(xlim), ylim[0] + 0.25*np.diff(ylim)), xycoords='data',\n",
        "            xytext=(logz_from_mbar_value + .08*np.diff(xlim), ylim[0] + 0.25*np.diff(ylim)), textcoords='data',\n",
        "            arrowprops=dict(arrowstyle='-\u003e',\n",
        "                            connectionstyle='arc3'),\n",
        "            )\n",
        "\n",
        "\n",
        "axins = inset_axes(ax, width='50%', height='50%')\n",
        "n_plot_samples = 1000\n",
        "mlp = model_logprob\n",
        "tlp = -beta * model_energies\n",
        "plot_model_vs_true_logprob(mlp=base_logprob, tlp_unnormalized=-beta * base_energies, target_log_z=target_log_z,\n",
        "                           ax=axins, color=base_color, label='Base', fontsize=16,\n",
        "                           n_plot_samples=n_plot_samples)\n",
        "\n",
        "_ = plot_model_vs_true_logprob(mlp=model_logprob, tlp_unnormalized=-beta * model_energies, target_log_z=target_log_z,\n",
        "                               ax=axins, color=flow_color, label='Flow', fontsize=16, margin=0.05,\n",
        "                               n_plot_samples=n_plot_samples)\n",
        "_ = ax.legend(loc='center right', bbox_to_anchor=(0, 0, 1.0, 0.5), prop={'size': 18}, frameon=False)"
      ]
    },
    {
      "cell_type": "markdown",
      "metadata": {
        "id": "T1aa3QPUxC2M"
      },
      "source": [
        "## Free energy estimation (LFEP)"
      ]
    },
    {
      "cell_type": "code",
      "execution_count": null,
      "metadata": {
        "id": "TMvGlr7DxeQd"
      },
      "outputs": [],
      "source": [
        "logZ_fep = -(obs_utils.compute_logz(model_logprob, -beta*model_energies) - log_factorial(num_particles)) / num_particles\n",
        "if chosen_system.startswith('mw'):  # monatomic water, scale dimensions\n",
        "  logZ_fep -= dimensionless_logvolume_mw\n",
        "\n",
        "print(f'LFEP estimate: {logZ_fep:.5f}')"
      ]
    }
  ],
  "metadata": {
    "colab": {
      "collapsed_sections": [],
      "name": "Explore trained models from \"Normalizing flows for atomic solids\"",
      "private_outputs": true,
      "provenance": [
        {
          "file_id": "1tb3dkitZhyvXwJP9ghfYbglWgQ9wS8bB",
          "timestamp": 1646137613781
        },
        {
          "file_id": "1OMXLSqT_gz6qugwjShma-8tQ6_gjaDxm",
          "timestamp": 1646047925142
        },
        {
          "file_id": "1R0IXJ0ZsT9cv13AqEbdFi3-6EcpSOcXY",
          "timestamp": 1636402347544
        },
        {
          "file_id": "1cOFFNeZGMYxjdLxpSmVgWbOffOmHgkbS",
          "timestamp": 1628547929887
        },
        {
          "file_id": "1et4pnXSrh77g0SHFh0Kza67-jhDTX_uV",
          "timestamp": 1626703086817
        },
        {
          "file_id": "1ptF7ttksw2205PcPnyit4V_Z4wR_yRae",
          "timestamp": 1611661547361
        },
        {
          "file_id": "1B1oDG7KQoHOdMYfrFLZ_mCLfN-hp1Z1X",
          "timestamp": 1607182798277
        }
      ],
      "toc_visible": true
    },
    "kernelspec": {
      "display_name": "Python 3",
      "name": "python3"
    }
  },
  "nbformat": 4,
  "nbformat_minor": 0
}
